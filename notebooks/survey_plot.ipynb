{
 "cells": [
  {
   "cell_type": "code",
   "execution_count": 1,
   "metadata": {},
   "outputs": [],
   "source": [
    "import numpy as np\n",
    "import pandas as pd"
   ]
  },
  {
   "cell_type": "code",
   "execution_count": 2,
   "metadata": {},
   "outputs": [],
   "source": [
    "survey_file = \"/home/ashish/Documents/github/VA/data/COPD Study.csv\""
   ]
  },
  {
   "cell_type": "code",
   "execution_count": 3,
   "metadata": {},
   "outputs": [
    {
     "data": {
      "text/html": [
       "<div>\n",
       "<style scoped>\n",
       "    .dataframe tbody tr th:only-of-type {\n",
       "        vertical-align: middle;\n",
       "    }\n",
       "\n",
       "    .dataframe tbody tr th {\n",
       "        vertical-align: top;\n",
       "    }\n",
       "\n",
       "    .dataframe thead th {\n",
       "        text-align: right;\n",
       "    }\n",
       "</style>\n",
       "<table border=\"1\" class=\"dataframe\">\n",
       "  <thead>\n",
       "    <tr style=\"text-align: right;\">\n",
       "      <th></th>\n",
       "      <th>Timestamp</th>\n",
       "      <th>Subject Number</th>\n",
       "      <th>Age</th>\n",
       "      <th>Sex</th>\n",
       "      <th>Height</th>\n",
       "      <th>Weight</th>\n",
       "      <th>Unnamed: 6</th>\n",
       "      <th>How tired do you feel overall?</th>\n",
       "      <th>How physically fatigued do you feel?</th>\n",
       "      <th>Do you feel mentally fatigued?</th>\n",
       "      <th>...</th>\n",
       "      <th>Do you feel mentally fatigued?.3</th>\n",
       "      <th>Do you feel sleepy or drowsy?.3</th>\n",
       "      <th>Do you feel active and energetic? .3</th>\n",
       "      <th>How difficult was the task?.2</th>\n",
       "      <th>How tired do you feel overall?.4</th>\n",
       "      <th>How physically fatigued do you feel?.4</th>\n",
       "      <th>Do you feel mentally fatigued?.4</th>\n",
       "      <th>Do you feel sleepy or drowsy?.4</th>\n",
       "      <th>Do you feel active and energetic? .4</th>\n",
       "      <th>How difficult was the task?.3</th>\n",
       "    </tr>\n",
       "  </thead>\n",
       "  <tbody>\n",
       "    <tr>\n",
       "      <th>0</th>\n",
       "      <td>2020/12/17 12:09:59 PM EST</td>\n",
       "      <td>2</td>\n",
       "      <td>35</td>\n",
       "      <td>Female</td>\n",
       "      <td>5.4</td>\n",
       "      <td>150.0</td>\n",
       "      <td>Accept</td>\n",
       "      <td>1</td>\n",
       "      <td>1</td>\n",
       "      <td>1</td>\n",
       "      <td>...</td>\n",
       "      <td>3</td>\n",
       "      <td>1</td>\n",
       "      <td>10</td>\n",
       "      <td>2</td>\n",
       "      <td>2</td>\n",
       "      <td>1</td>\n",
       "      <td>1</td>\n",
       "      <td>1</td>\n",
       "      <td>10</td>\n",
       "      <td>1</td>\n",
       "    </tr>\n",
       "    <tr>\n",
       "      <th>1</th>\n",
       "      <td>2020/12/17 4:10:38 PM EST</td>\n",
       "      <td>1</td>\n",
       "      <td>29</td>\n",
       "      <td>Male</td>\n",
       "      <td>6</td>\n",
       "      <td>205.0</td>\n",
       "      <td>Accept</td>\n",
       "      <td>3</td>\n",
       "      <td>4</td>\n",
       "      <td>4</td>\n",
       "      <td>...</td>\n",
       "      <td>7</td>\n",
       "      <td>8</td>\n",
       "      <td>3</td>\n",
       "      <td>6</td>\n",
       "      <td>8</td>\n",
       "      <td>5</td>\n",
       "      <td>7</td>\n",
       "      <td>8</td>\n",
       "      <td>2</td>\n",
       "      <td>4</td>\n",
       "    </tr>\n",
       "    <tr>\n",
       "      <th>2</th>\n",
       "      <td>2021/01/14 2:29:32 PM EST</td>\n",
       "      <td>4</td>\n",
       "      <td>28</td>\n",
       "      <td>Male</td>\n",
       "      <td>5.10</td>\n",
       "      <td>228.0</td>\n",
       "      <td>Accept</td>\n",
       "      <td>4</td>\n",
       "      <td>4</td>\n",
       "      <td>3</td>\n",
       "      <td>...</td>\n",
       "      <td>3</td>\n",
       "      <td>7</td>\n",
       "      <td>4</td>\n",
       "      <td>3</td>\n",
       "      <td>5</td>\n",
       "      <td>5</td>\n",
       "      <td>5</td>\n",
       "      <td>7</td>\n",
       "      <td>3</td>\n",
       "      <td>1</td>\n",
       "    </tr>\n",
       "    <tr>\n",
       "      <th>3</th>\n",
       "      <td>2021/01/14 5:53:58 PM EST</td>\n",
       "      <td>3</td>\n",
       "      <td>30</td>\n",
       "      <td>Male</td>\n",
       "      <td>6.2</td>\n",
       "      <td>234.0</td>\n",
       "      <td>Accept</td>\n",
       "      <td>6</td>\n",
       "      <td>8</td>\n",
       "      <td>6</td>\n",
       "      <td>...</td>\n",
       "      <td>10</td>\n",
       "      <td>10</td>\n",
       "      <td>2</td>\n",
       "      <td>5</td>\n",
       "      <td>9</td>\n",
       "      <td>3</td>\n",
       "      <td>10</td>\n",
       "      <td>10</td>\n",
       "      <td>3</td>\n",
       "      <td>1</td>\n",
       "    </tr>\n",
       "    <tr>\n",
       "      <th>4</th>\n",
       "      <td>2021/01/26 1:58:50 PM EST</td>\n",
       "      <td>6</td>\n",
       "      <td>25</td>\n",
       "      <td>Male</td>\n",
       "      <td>5'11\"</td>\n",
       "      <td>165.0</td>\n",
       "      <td>Accept</td>\n",
       "      <td>3</td>\n",
       "      <td>3</td>\n",
       "      <td>2</td>\n",
       "      <td>...</td>\n",
       "      <td>8</td>\n",
       "      <td>8</td>\n",
       "      <td>7</td>\n",
       "      <td>7</td>\n",
       "      <td>8</td>\n",
       "      <td>5</td>\n",
       "      <td>8</td>\n",
       "      <td>8</td>\n",
       "      <td>5</td>\n",
       "      <td>3</td>\n",
       "    </tr>\n",
       "  </tbody>\n",
       "</table>\n",
       "<p>5 rows × 38 columns</p>\n",
       "</div>"
      ],
      "text/plain": [
       "                    Timestamp  Subject Number  Age     Sex Height  Weight  \\\n",
       "0  2020/12/17 12:09:59 PM EST               2   35  Female    5.4   150.0   \n",
       "1   2020/12/17 4:10:38 PM EST               1   29    Male      6   205.0   \n",
       "2   2021/01/14 2:29:32 PM EST               4   28    Male   5.10   228.0   \n",
       "3   2021/01/14 5:53:58 PM EST               3   30    Male    6.2   234.0   \n",
       "4   2021/01/26 1:58:50 PM EST               6   25    Male  5'11\"   165.0   \n",
       "\n",
       "  Unnamed: 6  How tired do you feel overall?  \\\n",
       "0     Accept                               1   \n",
       "1     Accept                               3   \n",
       "2     Accept                               4   \n",
       "3     Accept                               6   \n",
       "4     Accept                               3   \n",
       "\n",
       "   How physically fatigued do you feel?  Do you feel mentally fatigued?  ...  \\\n",
       "0                                     1                               1  ...   \n",
       "1                                     4                               4  ...   \n",
       "2                                     4                               3  ...   \n",
       "3                                     8                               6  ...   \n",
       "4                                     3                               2  ...   \n",
       "\n",
       "   Do you feel mentally fatigued?.3  Do you feel sleepy or drowsy?.3  \\\n",
       "0                                 3                                1   \n",
       "1                                 7                                8   \n",
       "2                                 3                                7   \n",
       "3                                10                               10   \n",
       "4                                 8                                8   \n",
       "\n",
       "   Do you feel active and energetic? .3  How difficult was the task?.2  \\\n",
       "0                                    10                              2   \n",
       "1                                     3                              6   \n",
       "2                                     4                              3   \n",
       "3                                     2                              5   \n",
       "4                                     7                              7   \n",
       "\n",
       "   How tired do you feel overall?.4  How physically fatigued do you feel?.4  \\\n",
       "0                                 2                                       1   \n",
       "1                                 8                                       5   \n",
       "2                                 5                                       5   \n",
       "3                                 9                                       3   \n",
       "4                                 8                                       5   \n",
       "\n",
       "   Do you feel mentally fatigued?.4  Do you feel sleepy or drowsy?.4  \\\n",
       "0                                 1                                1   \n",
       "1                                 7                                8   \n",
       "2                                 5                                7   \n",
       "3                                10                               10   \n",
       "4                                 8                                8   \n",
       "\n",
       "   Do you feel active and energetic? .4  How difficult was the task?.3  \n",
       "0                                    10                              1  \n",
       "1                                     2                              4  \n",
       "2                                     3                              1  \n",
       "3                                     3                              1  \n",
       "4                                     5                              3  \n",
       "\n",
       "[5 rows x 38 columns]"
      ]
     },
     "execution_count": 3,
     "metadata": {},
     "output_type": "execute_result"
    }
   ],
   "source": [
    "data = pd.read_csv(survey_file)\n",
    "data.head()"
   ]
  },
  {
   "cell_type": "code",
   "execution_count": 4,
   "metadata": {},
   "outputs": [
    {
     "data": {
      "text/plain": [
       "Index(['Timestamp', 'Subject Number', 'Age', 'Sex', 'Height', 'Weight',\n",
       "       'Unnamed: 6', 'How tired do you feel overall?',\n",
       "       'How physically fatigued do you feel?',\n",
       "       'Do you feel mentally fatigued?', 'Do you feel sleepy or drowsy?',\n",
       "       'Do you feel active and energetic? ',\n",
       "       'Do you have difficulty breathing right now?',\n",
       "       'How tired do you feel overall?.1',\n",
       "       'How physically fatigued do you feel?.1',\n",
       "       'Do you feel mentally fatigued?.1', 'Do you feel sleepy or drowsy?.1',\n",
       "       'Do you feel active and energetic? .1', 'How difficult was the task?',\n",
       "       'How tired do you feel overall?.2',\n",
       "       'How physically fatigued do you feel?.2',\n",
       "       'Do you feel mentally fatigued?.2', 'Do you feel sleepy or drowsy?.2',\n",
       "       'Do you feel active and energetic? .2',\n",
       "       'Do you have difficulty breathing right now?.1',\n",
       "       'How difficult was the task?.1', 'How tired do you feel overall?.3',\n",
       "       'How physically fatigued do you feel?.3',\n",
       "       'Do you feel mentally fatigued?.3', 'Do you feel sleepy or drowsy?.3',\n",
       "       'Do you feel active and energetic? .3', 'How difficult was the task?.2',\n",
       "       'How tired do you feel overall?.4',\n",
       "       'How physically fatigued do you feel?.4',\n",
       "       'Do you feel mentally fatigued?.4', 'Do you feel sleepy or drowsy?.4',\n",
       "       'Do you feel active and energetic? .4',\n",
       "       'How difficult was the task?.3'],\n",
       "      dtype='object')"
      ]
     },
     "execution_count": 4,
     "metadata": {},
     "output_type": "execute_result"
    }
   ],
   "source": [
    "data.columns"
   ]
  },
  {
   "cell_type": "markdown",
   "metadata": {},
   "source": [
    "- **From the above columns, we can see that the survey was taken for four different rounds before and after inducing fatigue to the subject**"
   ]
  },
  {
   "cell_type": "code",
   "execution_count": 5,
   "metadata": {},
   "outputs": [
    {
     "data": {
      "text/plain": [
       "{0: [7, 8, 9, 10, 11, 12, 18],\n",
       " 1: [13, 14, 15, 16, 17, 24, 25],\n",
       " 2: [19, 20, 21, 22, 23, 31],\n",
       " 3: [26, 27, 28, 29, 30, 37],\n",
       " 4: [32, 33, 34, 35, 36]}"
      ]
     },
     "execution_count": 5,
     "metadata": {},
     "output_type": "execute_result"
    }
   ],
   "source": [
    "round_idx = {0: [], 1: [], 2: [], 3: [], 4: []}\n",
    "for i, col in enumerate(data.columns):\n",
    "    zero_flag = True\n",
    "    for idx in range(1, 5):\n",
    "        if f'.{idx}' in col:\n",
    "            round_idx[idx].append(i)\n",
    "            zero_flag = False\n",
    "            \n",
    "    if zero_flag and i > 6:\n",
    "        round_idx[0].append(i)\n",
    "            \n",
    "round_idx"
   ]
  },
  {
   "cell_type": "code",
   "execution_count": 6,
   "metadata": {},
   "outputs": [],
   "source": [
    "blocks = []\n",
    "for i in range(5):\n",
    "    blocks.append(data.iloc[:, [1] + round_idx[i]])"
   ]
  },
  {
   "cell_type": "code",
   "execution_count": 7,
   "metadata": {},
   "outputs": [
    {
     "data": {
      "text/html": [
       "<div>\n",
       "<style scoped>\n",
       "    .dataframe tbody tr th:only-of-type {\n",
       "        vertical-align: middle;\n",
       "    }\n",
       "\n",
       "    .dataframe tbody tr th {\n",
       "        vertical-align: top;\n",
       "    }\n",
       "\n",
       "    .dataframe thead th {\n",
       "        text-align: right;\n",
       "    }\n",
       "</style>\n",
       "<table border=\"1\" class=\"dataframe\">\n",
       "  <thead>\n",
       "    <tr style=\"text-align: right;\">\n",
       "      <th></th>\n",
       "      <th>Subject Number</th>\n",
       "      <th>How tired do you feel overall?.4</th>\n",
       "      <th>How physically fatigued do you feel?.4</th>\n",
       "      <th>Do you feel mentally fatigued?.4</th>\n",
       "      <th>Do you feel sleepy or drowsy?.4</th>\n",
       "      <th>Do you feel active and energetic? .4</th>\n",
       "    </tr>\n",
       "  </thead>\n",
       "  <tbody>\n",
       "    <tr>\n",
       "      <th>0</th>\n",
       "      <td>2</td>\n",
       "      <td>2</td>\n",
       "      <td>1</td>\n",
       "      <td>1</td>\n",
       "      <td>1</td>\n",
       "      <td>10</td>\n",
       "    </tr>\n",
       "    <tr>\n",
       "      <th>1</th>\n",
       "      <td>1</td>\n",
       "      <td>8</td>\n",
       "      <td>5</td>\n",
       "      <td>7</td>\n",
       "      <td>8</td>\n",
       "      <td>2</td>\n",
       "    </tr>\n",
       "    <tr>\n",
       "      <th>2</th>\n",
       "      <td>4</td>\n",
       "      <td>5</td>\n",
       "      <td>5</td>\n",
       "      <td>5</td>\n",
       "      <td>7</td>\n",
       "      <td>3</td>\n",
       "    </tr>\n",
       "    <tr>\n",
       "      <th>3</th>\n",
       "      <td>3</td>\n",
       "      <td>9</td>\n",
       "      <td>3</td>\n",
       "      <td>10</td>\n",
       "      <td>10</td>\n",
       "      <td>3</td>\n",
       "    </tr>\n",
       "    <tr>\n",
       "      <th>4</th>\n",
       "      <td>6</td>\n",
       "      <td>8</td>\n",
       "      <td>5</td>\n",
       "      <td>8</td>\n",
       "      <td>8</td>\n",
       "      <td>5</td>\n",
       "    </tr>\n",
       "    <tr>\n",
       "      <th>5</th>\n",
       "      <td>5</td>\n",
       "      <td>2</td>\n",
       "      <td>2</td>\n",
       "      <td>2</td>\n",
       "      <td>6</td>\n",
       "      <td>10</td>\n",
       "    </tr>\n",
       "    <tr>\n",
       "      <th>6</th>\n",
       "      <td>7</td>\n",
       "      <td>2</td>\n",
       "      <td>2</td>\n",
       "      <td>4</td>\n",
       "      <td>1</td>\n",
       "      <td>6</td>\n",
       "    </tr>\n",
       "    <tr>\n",
       "      <th>7</th>\n",
       "      <td>2</td>\n",
       "      <td>4</td>\n",
       "      <td>4</td>\n",
       "      <td>5</td>\n",
       "      <td>6</td>\n",
       "      <td>3</td>\n",
       "    </tr>\n",
       "    <tr>\n",
       "      <th>8</th>\n",
       "      <td>8</td>\n",
       "      <td>8</td>\n",
       "      <td>8</td>\n",
       "      <td>7</td>\n",
       "      <td>8</td>\n",
       "      <td>3</td>\n",
       "    </tr>\n",
       "    <tr>\n",
       "      <th>9</th>\n",
       "      <td>9</td>\n",
       "      <td>8</td>\n",
       "      <td>2</td>\n",
       "      <td>7</td>\n",
       "      <td>8</td>\n",
       "      <td>2</td>\n",
       "    </tr>\n",
       "    <tr>\n",
       "      <th>10</th>\n",
       "      <td>1</td>\n",
       "      <td>10</td>\n",
       "      <td>5</td>\n",
       "      <td>10</td>\n",
       "      <td>10</td>\n",
       "      <td>1</td>\n",
       "    </tr>\n",
       "    <tr>\n",
       "      <th>11</th>\n",
       "      <td>10</td>\n",
       "      <td>1</td>\n",
       "      <td>1</td>\n",
       "      <td>1</td>\n",
       "      <td>6</td>\n",
       "      <td>5</td>\n",
       "    </tr>\n",
       "  </tbody>\n",
       "</table>\n",
       "</div>"
      ],
      "text/plain": [
       "    Subject Number  How tired do you feel overall?.4  \\\n",
       "0                2                                 2   \n",
       "1                1                                 8   \n",
       "2                4                                 5   \n",
       "3                3                                 9   \n",
       "4                6                                 8   \n",
       "5                5                                 2   \n",
       "6                7                                 2   \n",
       "7                2                                 4   \n",
       "8                8                                 8   \n",
       "9                9                                 8   \n",
       "10               1                                10   \n",
       "11              10                                 1   \n",
       "\n",
       "    How physically fatigued do you feel?.4  Do you feel mentally fatigued?.4  \\\n",
       "0                                        1                                 1   \n",
       "1                                        5                                 7   \n",
       "2                                        5                                 5   \n",
       "3                                        3                                10   \n",
       "4                                        5                                 8   \n",
       "5                                        2                                 2   \n",
       "6                                        2                                 4   \n",
       "7                                        4                                 5   \n",
       "8                                        8                                 7   \n",
       "9                                        2                                 7   \n",
       "10                                       5                                10   \n",
       "11                                       1                                 1   \n",
       "\n",
       "    Do you feel sleepy or drowsy?.4  Do you feel active and energetic? .4  \n",
       "0                                 1                                    10  \n",
       "1                                 8                                     2  \n",
       "2                                 7                                     3  \n",
       "3                                10                                     3  \n",
       "4                                 8                                     5  \n",
       "5                                 6                                    10  \n",
       "6                                 1                                     6  \n",
       "7                                 6                                     3  \n",
       "8                                 8                                     3  \n",
       "9                                 8                                     2  \n",
       "10                               10                                     1  \n",
       "11                                6                                     5  "
      ]
     },
     "execution_count": 7,
     "metadata": {},
     "output_type": "execute_result"
    }
   ],
   "source": [
    "blocks[4]"
   ]
  },
  {
   "cell_type": "markdown",
   "metadata": {},
   "source": [
    "#### Change scale (1-10) to range (1-5) explaining [NoFatigue, SomeFatigue, ExtremeFatigue]"
   ]
  },
  {
   "cell_type": "code",
   "execution_count": 8,
   "metadata": {},
   "outputs": [],
   "source": [
    "for i in range(5):\n",
    "    block_i = blocks[i].drop(columns=[\"Subject Number\"])\n",
    "    columns = block_i.columns\n",
    "    conditions = [block_i.values < 4, block_i.values > 6]\n",
    "    choices = [\"None\", \"Extreme\"]\n",
    "\n",
    "    blocks[i] = pd.DataFrame(np.select(conditions, choices, default=\"Moderate\"), index=block_i.index, columns=columns)"
   ]
  },
  {
   "cell_type": "code",
   "execution_count": 9,
   "metadata": {},
   "outputs": [
    {
     "data": {
      "text/html": [
       "<div>\n",
       "<style scoped>\n",
       "    .dataframe tbody tr th:only-of-type {\n",
       "        vertical-align: middle;\n",
       "    }\n",
       "\n",
       "    .dataframe tbody tr th {\n",
       "        vertical-align: top;\n",
       "    }\n",
       "\n",
       "    .dataframe thead th {\n",
       "        text-align: right;\n",
       "    }\n",
       "</style>\n",
       "<table border=\"1\" class=\"dataframe\">\n",
       "  <thead>\n",
       "    <tr style=\"text-align: right;\">\n",
       "      <th></th>\n",
       "      <th>How tired do you feel overall?</th>\n",
       "      <th>How physically fatigued do you feel?</th>\n",
       "      <th>Do you feel mentally fatigued?</th>\n",
       "      <th>Do you feel sleepy or drowsy?</th>\n",
       "      <th>Do you feel active and energetic?</th>\n",
       "      <th>Do you have difficulty breathing right now?</th>\n",
       "      <th>How difficult was the task?</th>\n",
       "    </tr>\n",
       "  </thead>\n",
       "  <tbody>\n",
       "    <tr>\n",
       "      <th>0</th>\n",
       "      <td>None</td>\n",
       "      <td>None</td>\n",
       "      <td>None</td>\n",
       "      <td>None</td>\n",
       "      <td>Extreme</td>\n",
       "      <td>None</td>\n",
       "      <td>None</td>\n",
       "    </tr>\n",
       "    <tr>\n",
       "      <th>1</th>\n",
       "      <td>None</td>\n",
       "      <td>Moderate</td>\n",
       "      <td>Moderate</td>\n",
       "      <td>Moderate</td>\n",
       "      <td>Moderate</td>\n",
       "      <td>None</td>\n",
       "      <td>None</td>\n",
       "    </tr>\n",
       "    <tr>\n",
       "      <th>2</th>\n",
       "      <td>Moderate</td>\n",
       "      <td>Moderate</td>\n",
       "      <td>None</td>\n",
       "      <td>None</td>\n",
       "      <td>Moderate</td>\n",
       "      <td>None</td>\n",
       "      <td>None</td>\n",
       "    </tr>\n",
       "    <tr>\n",
       "      <th>3</th>\n",
       "      <td>Moderate</td>\n",
       "      <td>Extreme</td>\n",
       "      <td>Moderate</td>\n",
       "      <td>Extreme</td>\n",
       "      <td>None</td>\n",
       "      <td>None</td>\n",
       "      <td>None</td>\n",
       "    </tr>\n",
       "    <tr>\n",
       "      <th>4</th>\n",
       "      <td>None</td>\n",
       "      <td>None</td>\n",
       "      <td>None</td>\n",
       "      <td>None</td>\n",
       "      <td>None</td>\n",
       "      <td>None</td>\n",
       "      <td>None</td>\n",
       "    </tr>\n",
       "    <tr>\n",
       "      <th>5</th>\n",
       "      <td>None</td>\n",
       "      <td>None</td>\n",
       "      <td>None</td>\n",
       "      <td>None</td>\n",
       "      <td>Extreme</td>\n",
       "      <td>None</td>\n",
       "      <td>None</td>\n",
       "    </tr>\n",
       "    <tr>\n",
       "      <th>6</th>\n",
       "      <td>None</td>\n",
       "      <td>None</td>\n",
       "      <td>None</td>\n",
       "      <td>None</td>\n",
       "      <td>Moderate</td>\n",
       "      <td>None</td>\n",
       "      <td>None</td>\n",
       "    </tr>\n",
       "    <tr>\n",
       "      <th>7</th>\n",
       "      <td>Moderate</td>\n",
       "      <td>Moderate</td>\n",
       "      <td>Moderate</td>\n",
       "      <td>Moderate</td>\n",
       "      <td>Moderate</td>\n",
       "      <td>None</td>\n",
       "      <td>None</td>\n",
       "    </tr>\n",
       "    <tr>\n",
       "      <th>8</th>\n",
       "      <td>None</td>\n",
       "      <td>None</td>\n",
       "      <td>Moderate</td>\n",
       "      <td>None</td>\n",
       "      <td>Extreme</td>\n",
       "      <td>None</td>\n",
       "      <td>None</td>\n",
       "    </tr>\n",
       "    <tr>\n",
       "      <th>9</th>\n",
       "      <td>Moderate</td>\n",
       "      <td>Moderate</td>\n",
       "      <td>None</td>\n",
       "      <td>None</td>\n",
       "      <td>Moderate</td>\n",
       "      <td>None</td>\n",
       "      <td>None</td>\n",
       "    </tr>\n",
       "    <tr>\n",
       "      <th>10</th>\n",
       "      <td>Extreme</td>\n",
       "      <td>None</td>\n",
       "      <td>Extreme</td>\n",
       "      <td>Extreme</td>\n",
       "      <td>None</td>\n",
       "      <td>None</td>\n",
       "      <td>None</td>\n",
       "    </tr>\n",
       "    <tr>\n",
       "      <th>11</th>\n",
       "      <td>None</td>\n",
       "      <td>None</td>\n",
       "      <td>None</td>\n",
       "      <td>None</td>\n",
       "      <td>Moderate</td>\n",
       "      <td>None</td>\n",
       "      <td>None</td>\n",
       "    </tr>\n",
       "  </tbody>\n",
       "</table>\n",
       "</div>"
      ],
      "text/plain": [
       "   How tired do you feel overall? How physically fatigued do you feel?  \\\n",
       "0                            None                                 None   \n",
       "1                            None                             Moderate   \n",
       "2                        Moderate                             Moderate   \n",
       "3                        Moderate                              Extreme   \n",
       "4                            None                                 None   \n",
       "5                            None                                 None   \n",
       "6                            None                                 None   \n",
       "7                        Moderate                             Moderate   \n",
       "8                            None                                 None   \n",
       "9                        Moderate                             Moderate   \n",
       "10                        Extreme                                 None   \n",
       "11                           None                                 None   \n",
       "\n",
       "   Do you feel mentally fatigued? Do you feel sleepy or drowsy?  \\\n",
       "0                            None                          None   \n",
       "1                        Moderate                      Moderate   \n",
       "2                            None                          None   \n",
       "3                        Moderate                       Extreme   \n",
       "4                            None                          None   \n",
       "5                            None                          None   \n",
       "6                            None                          None   \n",
       "7                        Moderate                      Moderate   \n",
       "8                        Moderate                          None   \n",
       "9                            None                          None   \n",
       "10                        Extreme                       Extreme   \n",
       "11                           None                          None   \n",
       "\n",
       "   Do you feel active and energetic?   \\\n",
       "0                             Extreme   \n",
       "1                            Moderate   \n",
       "2                            Moderate   \n",
       "3                                None   \n",
       "4                                None   \n",
       "5                             Extreme   \n",
       "6                            Moderate   \n",
       "7                            Moderate   \n",
       "8                             Extreme   \n",
       "9                            Moderate   \n",
       "10                               None   \n",
       "11                           Moderate   \n",
       "\n",
       "   Do you have difficulty breathing right now? How difficult was the task?  \n",
       "0                                         None                        None  \n",
       "1                                         None                        None  \n",
       "2                                         None                        None  \n",
       "3                                         None                        None  \n",
       "4                                         None                        None  \n",
       "5                                         None                        None  \n",
       "6                                         None                        None  \n",
       "7                                         None                        None  \n",
       "8                                         None                        None  \n",
       "9                                         None                        None  \n",
       "10                                        None                        None  \n",
       "11                                        None                        None  "
      ]
     },
     "execution_count": 9,
     "metadata": {},
     "output_type": "execute_result"
    }
   ],
   "source": [
    "blocks[0]"
   ]
  },
  {
   "cell_type": "code",
   "execution_count": 12,
   "metadata": {},
   "outputs": [],
   "source": [
    "scale = [\"None\", \"Moderate\", \"Extreme\"]"
   ]
  },
  {
   "cell_type": "code",
   "execution_count": 13,
   "metadata": {},
   "outputs": [],
   "source": [
    "import plot_likert"
   ]
  },
  {
   "cell_type": "code",
   "execution_count": 14,
   "metadata": {},
   "outputs": [
    {
     "data": {
      "text/plain": [
       "<AxesSubplot:xlabel='Percentage of Responses'>"
      ]
     },
     "execution_count": 14,
     "metadata": {},
     "output_type": "execute_result"
    },
    {
     "data": {
      "image/png": "[encoded data removed]",
      "text/plain": [
       "<Figure size 432x288 with 1 Axes>"
      ]
     },
     "metadata": {
      "needs_background": "light"
     },
     "output_type": "display_data"
    }
   ],
   "source": [
    "plot_likert.plot_likert(blocks[0], scale, plot_percentage=True)"
   ]
  },
  {
   "cell_type": "code",
   "execution_count": 15,
   "metadata": {},
   "outputs": [
    {
     "data": {
      "text/plain": [
       "<AxesSubplot:xlabel='Percentage of Responses'>"
      ]
     },
     "execution_count": 15,
     "metadata": {},
     "output_type": "execute_result"
    },
    {
     "data": {
      "image/png": "[encoded data removed]",
      "text/plain": [
       "<Figure size 432x288 with 1 Axes>"
      ]
     },
     "metadata": {
      "needs_background": "light"
     },
     "output_type": "display_data"
    }
   ],
   "source": [
    "plot_likert.plot_likert(blocks[1], scale, plot_percentage=True)"
   ]
  },
  {
   "cell_type": "code",
   "execution_count": 17,
   "metadata": {},
   "outputs": [
    {
     "data": {
      "text/plain": [
       "<AxesSubplot:xlabel='Percentage of Responses'>"
      ]
     },
     "execution_count": 17,
     "metadata": {},
     "output_type": "execute_result"
    },
    {
     "data": {
      "image/png": "[encoded data removed]",
      "text/plain": [
       "<Figure size 432x288 with 1 Axes>"
      ]
     },
     "metadata": {
      "needs_background": "light"
     },
     "output_type": "display_data"
    }
   ],
   "source": [
    "plot_likert.plot_likert(blocks[2], scale, plot_percentage=True)"
   ]
  },
  {
   "cell_type": "code",
   "execution_count": 19,
   "metadata": {},
   "outputs": [
    {
     "data": {
      "text/plain": [
       "<AxesSubplot:xlabel='Percentage of Responses'>"
      ]
     },
     "execution_count": 19,
     "metadata": {},
     "output_type": "execute_result"
    },
    {
     "data": {
      "image/png": "[encoded data removed]",
      "text/plain": [
       "<Figure size 432x288 with 1 Axes>"
      ]
     },
     "metadata": {
      "needs_background": "light"
     },
     "output_type": "display_data"
    }
   ],
   "source": [
    "plot_likert.plot_likert(blocks[3], scale, plot_percentage=True)"
   ]
  },
  {
   "cell_type": "code",
   "execution_count": 20,
   "metadata": {},
   "outputs": [
    {
     "data": {
      "text/plain": [
       "<AxesSubplot:xlabel='Percentage of Responses'>"
      ]
     },
     "execution_count": 20,
     "metadata": {},
     "output_type": "execute_result"
    },
    {
     "data": {
      "image/png": "[encoded data removed]",
      "text/plain": [
       "<Figure size 432x288 with 1 Axes>"
      ]
     },
     "metadata": {
      "needs_background": "light"
     },
     "output_type": "display_data"
    }
   ],
   "source": [
    "plot_likert.plot_likert(blocks[4], scale, plot_percentage=True)"
   ]
  }
 ],
 "metadata": {
  "kernelspec": {
   "display_name": "VA",
   "language": "python",
   "name": "va"
  },
  "language_info": {
   "codemirror_mode": {
    "name": "ipython",
    "version": 3
   },
   "file_extension": ".py",
   "mimetype": "text/x-python",
   "name": "python",
   "nbconvert_exporter": "python",
   "pygments_lexer": "ipython3",
   "version": "3.6.9"
  }
 },
 "nbformat": 4,
 "nbformat_minor": 4
}
