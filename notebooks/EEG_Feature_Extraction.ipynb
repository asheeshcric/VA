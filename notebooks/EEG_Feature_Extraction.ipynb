{
 "cells": [
  {
   "cell_type": "code",
   "execution_count": 3,
   "metadata": {},
   "outputs": [],
   "source": [
    "import os"
   ]
  },
  {
   "cell_type": "code",
   "execution_count": 4,
   "metadata": {},
   "outputs": [],
   "source": [
    "cog_data_dir = \"/home/ashish/Documents/github/VA/data/cognitive_data\"\n",
    "phy_data_dir = \"/home/ashish/Documents/github/VA/data/physical_data\""
   ]
  },
  {
   "cell_type": "code",
   "execution_count": 6,
   "metadata": {},
   "outputs": [
    {
     "name": "stdout",
     "output_type": "stream",
     "text": [
      "1. Session: 1 | User_ID: 1 | EEG_path: /home/ashish/Documents/github/VA/data/cognitive_data/user_1/session_1/block3_2/eeg/1_3_2\n"
     ]
    }
   ],
   "source": [
    "session_counter = 0\n",
    "for user_id in range(1, 10):\n",
    "    user_dir = os.path.join(cog_data_dir, f\"user_{user_id}\")\n",
    "    for session in os.listdir(user_dir):\n",
    "        session_dir = os.path.join(user_dir, session)\n",
    "        for block in os.listdir(session_dir):\n",
    "            # Sanity check if the directory has the name \"block\" or not\n",
    "            if \"block\" not in block or \"practice\" in block.lower():\n",
    "                # Ignore directories other than block\n",
    "                continue\n",
    "            block_dir = os.path.join(session_dir, block)\n",
    "            eeg_dir = os.path.join(block_dir, \"eeg\")\n",
    "            eeg_path = os.path.join(eeg_dir, os.listdir(eeg_dir)[0])\n",
    "            print(f\"{session_counter+1}. Session: {session[-1]} | User_ID: {user_id} | EEG_path: {eeg_path}\")\n",
    "            session_counter += 1\n",
    "            break\n",
    "        break\n",
    "    break"
   ]
  },
  {
   "cell_type": "code",
   "execution_count": 12,
   "metadata": {},
   "outputs": [],
   "source": [
    "def read_eeg_file(eeg_path):\n",
    "    a, b, d, g, t = [], [], [], [], []\n",
    "    with open(eeg_path, 'r') as file:\n",
    "        for line in file.readlines():\n",
    "            values = line.split()\n",
    "            if not values:\n",
    "                continue\n",
    "            if values[0] == 'a':\n",
    "                a.append(list(map(lambda x: float(x), values[1:])))\n",
    "            elif values[0] == 'b':\n",
    "                b.append(list(map(lambda x: float(x), values[1:])))\n",
    "            elif values[0] == 'd':\n",
    "                d.append(list(map(lambda x: float(x), values[1:])))\n",
    "            elif values[0] == 'g':\n",
    "                g.append(list(map(lambda x: float(x), values[1:])))\n",
    "            elif values[0] == 't':\n",
    "                t.append(list(map(lambda x: float(x), values[1:])))\n",
    "                \n",
    "    return a, b, d, g, t"
   ]
  },
  {
   "cell_type": "code",
   "execution_count": 23,
   "metadata": {},
   "outputs": [],
   "source": [
    "def read_eeg_bands(eeg_path):\n",
    "    bands = {\n",
    "        'a': [], 'b': [], 'd': [], 'g': [], 't': [],\n",
    "        'Aa': [], 'Ab': [], 'Ad': [], 'Ag': [], 'At': [],\n",
    "        'as': [], 'bs': [], 'ds': [], 'gs': [], 'ts': [],\n",
    "    }\n",
    "    with open(eeg_path, 'r') as file:\n",
    "        for line in file.readlines():\n",
    "            values = line.split()\n",
    "            if not values:\n",
    "                continue\n",
    "                \n",
    "            if values[0] in bands.keys():\n",
    "                bands[values[0]].append(list(map(lambda x: float(x), values[1:])))\n",
    "                \n",
    "    return bands"
   ]
  },
  {
   "cell_type": "code",
   "execution_count": 24,
   "metadata": {},
   "outputs": [],
   "source": [
    "def store_bands_to_csv(bands):\n",
    "    pass"
   ]
  },
  {
   "cell_type": "code",
   "execution_count": 28,
   "metadata": {},
   "outputs": [
    {
     "name": "stdout",
     "output_type": "stream",
     "text": [
      "a: 1751\n",
      "b: 1751\n",
      "d: 1751\n",
      "g: 1751\n",
      "t: 1751\n",
      "Aa: 1751\n",
      "Ab: 1751\n",
      "Ad: 1751\n",
      "Ag: 1751\n",
      "At: 1751\n",
      "as: 1751\n",
      "bs: 1751\n",
      "ds: 1751\n",
      "gs: 1751\n",
      "ts: 1751\n"
     ]
    }
   ],
   "source": [
    "bands = read_eeg_bands(eeg_path)\n",
    "for band in bands:\n",
    "    print(f'{band}: {len(bands[band])}')"
   ]
  },
  {
   "cell_type": "code",
   "execution_count": 13,
   "metadata": {},
   "outputs": [],
   "source": [
    "a, b, d, g, t = read_eeg_file(eeg_path)"
   ]
  },
  {
   "cell_type": "code",
   "execution_count": 15,
   "metadata": {},
   "outputs": [
    {
     "name": "stdout",
     "output_type": "stream",
     "text": [
      "1751 1751 1751 1751 1751\n"
     ]
    }
   ],
   "source": [
    "print(len(a), len(b), len(d), len(g), len(t))"
   ]
  },
  {
   "cell_type": "code",
   "execution_count": 16,
   "metadata": {},
   "outputs": [],
   "source": [
    "import pandas as pd"
   ]
  },
  {
   "cell_type": "code",
   "execution_count": 18,
   "metadata": {},
   "outputs": [
    {
     "data": {
      "text/html": [
       "<div>\n",
       "<style scoped>\n",
       "    .dataframe tbody tr th:only-of-type {\n",
       "        vertical-align: middle;\n",
       "    }\n",
       "\n",
       "    .dataframe tbody tr th {\n",
       "        vertical-align: top;\n",
       "    }\n",
       "\n",
       "    .dataframe thead th {\n",
       "        text-align: right;\n",
       "    }\n",
       "</style>\n",
       "<table border=\"1\" class=\"dataframe\">\n",
       "  <thead>\n",
       "    <tr style=\"text-align: right;\">\n",
       "      <th></th>\n",
       "      <th>a1</th>\n",
       "      <th>a2</th>\n",
       "      <th>a3</th>\n",
       "      <th>a4</th>\n",
       "    </tr>\n",
       "  </thead>\n",
       "  <tbody>\n",
       "    <tr>\n",
       "      <th>0</th>\n",
       "      <td>0.436433</td>\n",
       "      <td>0.049540</td>\n",
       "      <td>0.097837</td>\n",
       "      <td>0.267870</td>\n",
       "    </tr>\n",
       "    <tr>\n",
       "      <th>1</th>\n",
       "      <td>0.357178</td>\n",
       "      <td>0.028015</td>\n",
       "      <td>0.097837</td>\n",
       "      <td>0.270600</td>\n",
       "    </tr>\n",
       "    <tr>\n",
       "      <th>2</th>\n",
       "      <td>0.355861</td>\n",
       "      <td>0.022112</td>\n",
       "      <td>0.097837</td>\n",
       "      <td>0.273528</td>\n",
       "    </tr>\n",
       "    <tr>\n",
       "      <th>3</th>\n",
       "      <td>0.360311</td>\n",
       "      <td>0.021452</td>\n",
       "      <td>0.097837</td>\n",
       "      <td>0.274958</td>\n",
       "    </tr>\n",
       "    <tr>\n",
       "      <th>4</th>\n",
       "      <td>0.355445</td>\n",
       "      <td>0.021372</td>\n",
       "      <td>0.097837</td>\n",
       "      <td>0.272780</td>\n",
       "    </tr>\n",
       "    <tr>\n",
       "      <th>...</th>\n",
       "      <td>...</td>\n",
       "      <td>...</td>\n",
       "      <td>...</td>\n",
       "      <td>...</td>\n",
       "    </tr>\n",
       "    <tr>\n",
       "      <th>1746</th>\n",
       "      <td>0.416292</td>\n",
       "      <td>0.122264</td>\n",
       "      <td>0.097837</td>\n",
       "      <td>0.358124</td>\n",
       "    </tr>\n",
       "    <tr>\n",
       "      <th>1747</th>\n",
       "      <td>0.416292</td>\n",
       "      <td>0.118363</td>\n",
       "      <td>0.097837</td>\n",
       "      <td>0.358124</td>\n",
       "    </tr>\n",
       "    <tr>\n",
       "      <th>1748</th>\n",
       "      <td>0.416292</td>\n",
       "      <td>0.116379</td>\n",
       "      <td>0.097837</td>\n",
       "      <td>0.358124</td>\n",
       "    </tr>\n",
       "    <tr>\n",
       "      <th>1749</th>\n",
       "      <td>0.416292</td>\n",
       "      <td>0.114610</td>\n",
       "      <td>0.097837</td>\n",
       "      <td>0.358124</td>\n",
       "    </tr>\n",
       "    <tr>\n",
       "      <th>1750</th>\n",
       "      <td>0.416292</td>\n",
       "      <td>0.112930</td>\n",
       "      <td>0.097837</td>\n",
       "      <td>0.358124</td>\n",
       "    </tr>\n",
       "  </tbody>\n",
       "</table>\n",
       "<p>1751 rows × 4 columns</p>\n",
       "</div>"
      ],
      "text/plain": [
       "            a1        a2        a3        a4\n",
       "0     0.436433  0.049540  0.097837  0.267870\n",
       "1     0.357178  0.028015  0.097837  0.270600\n",
       "2     0.355861  0.022112  0.097837  0.273528\n",
       "3     0.360311  0.021452  0.097837  0.274958\n",
       "4     0.355445  0.021372  0.097837  0.272780\n",
       "...        ...       ...       ...       ...\n",
       "1746  0.416292  0.122264  0.097837  0.358124\n",
       "1747  0.416292  0.118363  0.097837  0.358124\n",
       "1748  0.416292  0.116379  0.097837  0.358124\n",
       "1749  0.416292  0.114610  0.097837  0.358124\n",
       "1750  0.416292  0.112930  0.097837  0.358124\n",
       "\n",
       "[1751 rows x 4 columns]"
      ]
     },
     "execution_count": 18,
     "metadata": {},
     "output_type": "execute_result"
    }
   ],
   "source": [
    "X = pd.DataFrame(a, columns=['a1', 'a2', 'a3', 'a4'])\n",
    "X"
   ]
  },
  {
   "cell_type": "code",
   "execution_count": null,
   "metadata": {},
   "outputs": [],
   "source": []
  }
 ],
 "metadata": {
  "kernelspec": {
   "display_name": "VA",
   "language": "python",
   "name": "va"
  },
  "language_info": {
   "codemirror_mode": {
    "name": "ipython",
    "version": 3
   },
   "file_extension": ".py",
   "mimetype": "text/x-python",
   "name": "python",
   "nbconvert_exporter": "python",
   "pygments_lexer": "ipython3",
   "version": "3.6.9"
  }
 },
 "nbformat": 4,
 "nbformat_minor": 4
}
