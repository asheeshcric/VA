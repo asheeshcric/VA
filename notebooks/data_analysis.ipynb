{
 "cells": [
  {
   "cell_type": "code",
   "execution_count": 1,
   "metadata": {},
   "outputs": [],
   "source": [
    "import numpy as np\n",
    "import pandas as pd\n",
    "import neurokit2 as nk"
   ]
  },
  {
   "cell_type": "code",
   "execution_count": 2,
   "metadata": {},
   "outputs": [],
   "source": [
    "cog_data_dir = \"/home/ashish/Documents/github/VA/data/cognitive_data\"\n",
    "phy_data_dir = \"/home/ashish/Documents/github/VA/data/physical_data\""
   ]
  },
  {
   "cell_type": "markdown",
   "metadata": {},
   "source": [
    "- Currently, in Varun's data, there are 10 users with IDs from 0-9\n",
    "- Each user has either one or two study sessions (session_1 and/or session_2)\n",
    "- Each session contains multiple blocks of 0-back and 2-back tasks that the user performed.\n",
    "    - Each block has three sets of data collected in different CSV files\n",
    "        1. Score obtained (0-100) in the played session\n",
    "            - Inside the block dir with \".csv\" extension\n",
    "        2. BiosignalPlux data (BSP) - ECG, GSR, Breathing, EMG, PulOxR, PulOxIR\n",
    "            - Inside \"block_x_x/bsp\" dir with \".csv\" extension\n",
    "        3. EEG data\n",
    "            - File inside \"block_x_x/eeg\" with no extension"
   ]
  },
  {
   "cell_type": "code",
   "execution_count": null,
   "metadata": {},
   "outputs": [],
   "source": []
  }
 ],
 "metadata": {
  "kernelspec": {
   "display_name": "VA",
   "language": "python",
   "name": "va"
  },
  "language_info": {
   "codemirror_mode": {
    "name": "ipython",
    "version": 3
   },
   "file_extension": ".py",
   "mimetype": "text/x-python",
   "name": "python",
   "nbconvert_exporter": "python",
   "pygments_lexer": "ipython3",
   "version": "3.6.9"
  }
 },
 "nbformat": 4,
 "nbformat_minor": 4
}
