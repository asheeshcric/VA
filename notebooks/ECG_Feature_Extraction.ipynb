{
 "cells": [
  {
   "cell_type": "code",
   "execution_count": 1,
   "metadata": {},
   "outputs": [],
   "source": [
    "import os\n",
    "from csv import reader"
   ]
  },
  {
   "cell_type": "code",
   "execution_count": 19,
   "metadata": {},
   "outputs": [],
   "source": [
    "import numpy as np\n",
    "import pandas as pd\n",
    "import matplotlib.pyplot as plt\n",
    "\n",
    "# Neurokit package\n",
    "import neurokit2 as nk\n",
    "# RR Interval Processing package\n",
    "import hrvanalysis as hrvana"
   ]
  },
  {
   "cell_type": "code",
   "execution_count": 3,
   "metadata": {},
   "outputs": [],
   "source": [
    "# Returns the scores on the N-back tasks\n",
    "def get_n_back_score(block_dir):\n",
    "    # return the final score (float from 0.0-1.0) of the N-back task that the user played (0-100)\n",
    "    n_back_file = None\n",
    "    for content in os.listdir(block_dir):\n",
    "        if \".csv\" in content:\n",
    "            n_back_file = content\n",
    "            break\n",
    "    if not n_back_file:\n",
    "        return 0\n",
    "    \n",
    "    with open(os.path.join(block_dir, n_back_file), \"r\") as file:\n",
    "        csv_reader = reader(file)\n",
    "        last_row = list(csv_reader)[-1]\n",
    "        \n",
    "    # Example row: ['3_Letter_C.png', '', '11', '0', '67', '1', '97.46835443037975', '0.0']\n",
    "    # Second last column of the last row represents the final score in the game\n",
    "    return round(float(last_row[-2]) / 100, 2)"
   ]
  },
  {
   "cell_type": "code",
   "execution_count": 4,
   "metadata": {},
   "outputs": [],
   "source": [
    "def extract_bsp_features(block_dir):\n",
    "    # Return as Pandas DF containing all relevant BSP (ECG, GSR, Breathing, EMG, PulOxR, PulOxlR)\n",
    "    bsp_dir = os.path.join(block_dir, \"bsp\")\n",
    "    bsp_file_name = os.listdir(bsp_dir)[0]\n",
    "    bsp_file_path = os.path.join(bsp_dir, bsp_file_name)\n",
    "    bsp_data = pd.read_csv(bsp_file_path)\n",
    "    return bsp_data"
   ]
  },
  {
   "cell_type": "code",
   "execution_count": 5,
   "metadata": {},
   "outputs": [],
   "source": [
    "def get_ecg_features(bsp_data):\n",
    "    ecg_data = bsp_data['ECG'].values\n",
    "    signals, info = nk.ecg_process(ecg_data, sampling_rate=1000)\n",
    "    peaks, p_info = nk.ecg_peaks(ecg_data, sampling_rate=1000)\n",
    "    nk.ecg_plot(signals, sampling_rate=1000)\n",
    "    # Select only four features from the signals (others seem to be zero for some reason)\n",
    "    ecg_features = signals[[\"ECG_Raw\", \"ECG_Clean\", \"ECG_Rate\", \"ECG_Quality\"]]\n",
    "    \n",
    "    # Also, compute HRV indices\n",
    "    hrv_time = nk.hrv_time(peaks, sampling_rate=1000, show=True)\n",
    "    hrv_freq = nk.hrv_frequency(peaks, sampling_rate=1000, show=True)\n",
    "    hrv_non = nk.hrv_nonlinear(peaks, sampling_rate=1000, show=True)\n",
    "    hrv_all = nk.hrv(peaks, sampling_rate=1000, show=True)\n",
    "    return ecg_features, hrv_time, hrv_freq, hrv_non, hrv_all"
   ]
  },
  {
   "cell_type": "code",
   "execution_count": 6,
   "metadata": {},
   "outputs": [],
   "source": [
    "cog_data_dir = \"/home/ashish/Documents/github/VA/data/cognitive_data\"\n",
    "phy_data_dir = \"/home/ashish/Documents/github/VA/data/physical_data\""
   ]
  },
  {
   "cell_type": "code",
   "execution_count": 7,
   "metadata": {},
   "outputs": [
    {
     "name": "stdout",
     "output_type": "stream",
     "text": [
      "1. Score: 0.97 | Session: 1 | User_ID: 1\n"
     ]
    }
   ],
   "source": [
    "session_counter = 0\n",
    "for user_id in range(1, 10):\n",
    "    user_dir = os.path.join(cog_data_dir, f\"user_{user_id}\")\n",
    "    for session in os.listdir(user_dir):\n",
    "        session_dir = os.path.join(user_dir, session)\n",
    "        for block in os.listdir(session_dir):\n",
    "            # Sanity check if the directory has the name \"block\" or not\n",
    "            if \"block\" not in block or \"practice\" in block.lower():\n",
    "                # Ignore directories other than block\n",
    "                continue\n",
    "            block_dir = os.path.join(session_dir, block)\n",
    "            # For each block, we want to extract three different sets of data\n",
    "            score = get_n_back_score(block_dir)\n",
    "            print(f\"{session_counter+1}. Score: {score} | Session: {session[-1]} | User_ID: {user_id}\")\n",
    "            session_counter += 1\n",
    "            bsp_data = extract_bsp_features(block_dir)\n",
    "            break\n",
    "        break\n",
    "    break"
   ]
  },
  {
   "cell_type": "code",
   "execution_count": 8,
   "metadata": {},
   "outputs": [
    {
     "data": {
      "text/html": [
       "<div>\n",
       "<style scoped>\n",
       "    .dataframe tbody tr th:only-of-type {\n",
       "        vertical-align: middle;\n",
       "    }\n",
       "\n",
       "    .dataframe tbody tr th {\n",
       "        vertical-align: top;\n",
       "    }\n",
       "\n",
       "    .dataframe thead th {\n",
       "        text-align: right;\n",
       "    }\n",
       "</style>\n",
       "<table border=\"1\" class=\"dataframe\">\n",
       "  <thead>\n",
       "    <tr style=\"text-align: right;\">\n",
       "      <th></th>\n",
       "      <th>Time</th>\n",
       "      <th>ECG</th>\n",
       "      <th>GSR</th>\n",
       "      <th>Breathing</th>\n",
       "      <th>EMG</th>\n",
       "      <th>PulOxR</th>\n",
       "      <th>PulOxIR</th>\n",
       "    </tr>\n",
       "  </thead>\n",
       "  <tbody>\n",
       "    <tr>\n",
       "      <th>0</th>\n",
       "      <td>14:59:58.854092</td>\n",
       "      <td>27162.0</td>\n",
       "      <td>11219.0</td>\n",
       "      <td>59604.0</td>\n",
       "      <td>32789.0</td>\n",
       "      <td>0.0</td>\n",
       "      <td>0.0</td>\n",
       "    </tr>\n",
       "    <tr>\n",
       "      <th>1</th>\n",
       "      <td>14:59:58.854137</td>\n",
       "      <td>27176.0</td>\n",
       "      <td>11222.0</td>\n",
       "      <td>59613.0</td>\n",
       "      <td>32757.0</td>\n",
       "      <td>0.0</td>\n",
       "      <td>0.0</td>\n",
       "    </tr>\n",
       "    <tr>\n",
       "      <th>2</th>\n",
       "      <td>14:59:58.854155</td>\n",
       "      <td>27188.0</td>\n",
       "      <td>11229.0</td>\n",
       "      <td>59615.0</td>\n",
       "      <td>32722.0</td>\n",
       "      <td>28732.0</td>\n",
       "      <td>10314.0</td>\n",
       "    </tr>\n",
       "    <tr>\n",
       "      <th>3</th>\n",
       "      <td>14:59:58.854171</td>\n",
       "      <td>27228.0</td>\n",
       "      <td>11228.0</td>\n",
       "      <td>59751.0</td>\n",
       "      <td>32912.0</td>\n",
       "      <td>28732.0</td>\n",
       "      <td>10314.0</td>\n",
       "    </tr>\n",
       "    <tr>\n",
       "      <th>4</th>\n",
       "      <td>14:59:58.856554</td>\n",
       "      <td>27292.0</td>\n",
       "      <td>11258.0</td>\n",
       "      <td>59751.0</td>\n",
       "      <td>32743.0</td>\n",
       "      <td>29550.0</td>\n",
       "      <td>10093.0</td>\n",
       "    </tr>\n",
       "    <tr>\n",
       "      <th>...</th>\n",
       "      <td>...</td>\n",
       "      <td>...</td>\n",
       "      <td>...</td>\n",
       "      <td>...</td>\n",
       "      <td>...</td>\n",
       "      <td>...</td>\n",
       "      <td>...</td>\n",
       "    </tr>\n",
       "    <tr>\n",
       "      <th>172516</th>\n",
       "      <td>15:02:51.484125</td>\n",
       "      <td>36478.0</td>\n",
       "      <td>9413.0</td>\n",
       "      <td>27303.0</td>\n",
       "      <td>32790.0</td>\n",
       "      <td>29542.0</td>\n",
       "      <td>11293.0</td>\n",
       "    </tr>\n",
       "    <tr>\n",
       "      <th>172517</th>\n",
       "      <td>15:02:51.485730</td>\n",
       "      <td>36472.0</td>\n",
       "      <td>9444.0</td>\n",
       "      <td>27269.0</td>\n",
       "      <td>32788.0</td>\n",
       "      <td>29544.0</td>\n",
       "      <td>11289.0</td>\n",
       "    </tr>\n",
       "    <tr>\n",
       "      <th>172518</th>\n",
       "      <td>15:02:51.486155</td>\n",
       "      <td>36464.0</td>\n",
       "      <td>9422.0</td>\n",
       "      <td>27271.0</td>\n",
       "      <td>32708.0</td>\n",
       "      <td>29544.0</td>\n",
       "      <td>11289.0</td>\n",
       "    </tr>\n",
       "    <tr>\n",
       "      <th>172519</th>\n",
       "      <td>15:02:51.486238</td>\n",
       "      <td>36473.0</td>\n",
       "      <td>9471.0</td>\n",
       "      <td>27357.0</td>\n",
       "      <td>32796.0</td>\n",
       "      <td>29543.0</td>\n",
       "      <td>11287.0</td>\n",
       "    </tr>\n",
       "    <tr>\n",
       "      <th>172520</th>\n",
       "      <td>15:02:51.486282</td>\n",
       "      <td>36494.0</td>\n",
       "      <td>9534.0</td>\n",
       "      <td>27368.0</td>\n",
       "      <td>32710.0</td>\n",
       "      <td>29543.0</td>\n",
       "      <td>11287.0</td>\n",
       "    </tr>\n",
       "  </tbody>\n",
       "</table>\n",
       "<p>172521 rows × 7 columns</p>\n",
       "</div>"
      ],
      "text/plain": [
       "                   Time      ECG      GSR  Breathing      EMG   PulOxR  \\\n",
       "0       14:59:58.854092  27162.0  11219.0    59604.0  32789.0      0.0   \n",
       "1       14:59:58.854137  27176.0  11222.0    59613.0  32757.0      0.0   \n",
       "2       14:59:58.854155  27188.0  11229.0    59615.0  32722.0  28732.0   \n",
       "3       14:59:58.854171  27228.0  11228.0    59751.0  32912.0  28732.0   \n",
       "4       14:59:58.856554  27292.0  11258.0    59751.0  32743.0  29550.0   \n",
       "...                 ...      ...      ...        ...      ...      ...   \n",
       "172516  15:02:51.484125  36478.0   9413.0    27303.0  32790.0  29542.0   \n",
       "172517  15:02:51.485730  36472.0   9444.0    27269.0  32788.0  29544.0   \n",
       "172518  15:02:51.486155  36464.0   9422.0    27271.0  32708.0  29544.0   \n",
       "172519  15:02:51.486238  36473.0   9471.0    27357.0  32796.0  29543.0   \n",
       "172520  15:02:51.486282  36494.0   9534.0    27368.0  32710.0  29543.0   \n",
       "\n",
       "        PulOxIR  \n",
       "0           0.0  \n",
       "1           0.0  \n",
       "2       10314.0  \n",
       "3       10314.0  \n",
       "4       10093.0  \n",
       "...         ...  \n",
       "172516  11293.0  \n",
       "172517  11289.0  \n",
       "172518  11289.0  \n",
       "172519  11287.0  \n",
       "172520  11287.0  \n",
       "\n",
       "[172521 rows x 7 columns]"
      ]
     },
     "execution_count": 8,
     "metadata": {},
     "output_type": "execute_result"
    }
   ],
   "source": [
    "bsp_data"
   ]
  },
  {
   "cell_type": "markdown",
   "metadata": {},
   "source": [
    "## Cleaning ECG and Detecting R-points"
   ]
  },
  {
   "cell_type": "markdown",
   "metadata": {},
   "source": [
    "- Use Pan and Tompkins proposed QRS detection algorithm for cleaning ECG data"
   ]
  },
  {
   "cell_type": "code",
   "execution_count": 9,
   "metadata": {},
   "outputs": [],
   "source": [
    "cleaned = nk.ecg_clean(bsp_data['ECG'], sampling_rate=1000, method=\"pantompkins1985\")\n",
    "pantompkins1985 = nk.ecg_findpeaks(cleaned, method=\"pantompkins1985\") # find the R peaks"
   ]
  },
  {
   "cell_type": "code",
   "execution_count": 11,
   "metadata": {},
   "outputs": [
    {
     "data": {
      "text/plain": [
       "array([-171.14260997, -502.08093177, -810.61908831, ..., 4040.89621501,\n",
       "       3947.99189049, 3850.3286824 ])"
      ]
     },
     "execution_count": 11,
     "metadata": {},
     "output_type": "execute_result"
    }
   ],
   "source": [
    "cleaned"
   ]
  },
  {
   "cell_type": "markdown",
   "metadata": {},
   "source": [
    "- The **ECG_R_Peaks** column contains the time difference in seconds from each R peak to the start of the recording. We will calculate the RR intervals based on the difference between each R point in the following cells."
   ]
  },
  {
   "cell_type": "code",
   "execution_count": 16,
   "metadata": {},
   "outputs": [
    {
     "data": {
      "text/html": [
       "<div>\n",
       "<style scoped>\n",
       "    .dataframe tbody tr th:only-of-type {\n",
       "        vertical-align: middle;\n",
       "    }\n",
       "\n",
       "    .dataframe tbody tr th {\n",
       "        vertical-align: top;\n",
       "    }\n",
       "\n",
       "    .dataframe thead th {\n",
       "        text-align: right;\n",
       "    }\n",
       "</style>\n",
       "<table border=\"1\" class=\"dataframe\">\n",
       "  <thead>\n",
       "    <tr style=\"text-align: right;\">\n",
       "      <th></th>\n",
       "      <th>ECG_R_Peaks</th>\n",
       "    </tr>\n",
       "  </thead>\n",
       "  <tbody>\n",
       "    <tr>\n",
       "      <th>0</th>\n",
       "      <td>346</td>\n",
       "    </tr>\n",
       "    <tr>\n",
       "      <th>1</th>\n",
       "      <td>1069</td>\n",
       "    </tr>\n",
       "    <tr>\n",
       "      <th>2</th>\n",
       "      <td>1709</td>\n",
       "    </tr>\n",
       "    <tr>\n",
       "      <th>3</th>\n",
       "      <td>2338</td>\n",
       "    </tr>\n",
       "    <tr>\n",
       "      <th>4</th>\n",
       "      <td>2960</td>\n",
       "    </tr>\n",
       "  </tbody>\n",
       "</table>\n",
       "</div>"
      ],
      "text/plain": [
       "   ECG_R_Peaks\n",
       "0          346\n",
       "1         1069\n",
       "2         1709\n",
       "3         2338\n",
       "4         2960"
      ]
     },
     "execution_count": 16,
     "metadata": {},
     "output_type": "execute_result"
    }
   ],
   "source": [
    "# Converting peaks values into a DF\n",
    "hrv_df = pd.DataFrame(pantompkins1985)\n",
    "hrv_df.head()"
   ]
  },
  {
   "cell_type": "code",
   "execution_count": 17,
   "metadata": {},
   "outputs": [
    {
     "data": {
      "text/html": [
       "<div>\n",
       "<style scoped>\n",
       "    .dataframe tbody tr th:only-of-type {\n",
       "        vertical-align: middle;\n",
       "    }\n",
       "\n",
       "    .dataframe tbody tr th {\n",
       "        vertical-align: top;\n",
       "    }\n",
       "\n",
       "    .dataframe thead th {\n",
       "        text-align: right;\n",
       "    }\n",
       "</style>\n",
       "<table border=\"1\" class=\"dataframe\">\n",
       "  <thead>\n",
       "    <tr style=\"text-align: right;\">\n",
       "      <th></th>\n",
       "      <th>ECG_R_Peaks</th>\n",
       "      <th>RR_Intervals</th>\n",
       "    </tr>\n",
       "  </thead>\n",
       "  <tbody>\n",
       "    <tr>\n",
       "      <th>0</th>\n",
       "      <td>346</td>\n",
       "      <td>346.0</td>\n",
       "    </tr>\n",
       "    <tr>\n",
       "      <th>1</th>\n",
       "      <td>1069</td>\n",
       "      <td>723.0</td>\n",
       "    </tr>\n",
       "    <tr>\n",
       "      <th>2</th>\n",
       "      <td>1709</td>\n",
       "      <td>640.0</td>\n",
       "    </tr>\n",
       "    <tr>\n",
       "      <th>3</th>\n",
       "      <td>2338</td>\n",
       "      <td>629.0</td>\n",
       "    </tr>\n",
       "    <tr>\n",
       "      <th>4</th>\n",
       "      <td>2960</td>\n",
       "      <td>622.0</td>\n",
       "    </tr>\n",
       "  </tbody>\n",
       "</table>\n",
       "</div>"
      ],
      "text/plain": [
       "   ECG_R_Peaks  RR_Intervals\n",
       "0          346         346.0\n",
       "1         1069         723.0\n",
       "2         1709         640.0\n",
       "3         2338         629.0\n",
       "4         2960         622.0"
      ]
     },
     "execution_count": 17,
     "metadata": {},
     "output_type": "execute_result"
    }
   ],
   "source": [
    "# RR_intervals are basically the difference between two adjacent points\n",
    "hrv_df['RR_Intervals'] = hrv_df['ECG_R_Peaks'].diff()\n",
    "# Fix the first value to 0, as it will be NaN\n",
    "hrv_df.loc[0, 'RR_Intervals'] = hrv_df.loc[0]['ECG_R_Peaks']\n",
    "hrv_df.head()"
   ]
  },
  {
   "cell_type": "markdown",
   "metadata": {},
   "source": [
    "## RR Interval Visualization"
   ]
  },
  {
   "cell_type": "code",
   "execution_count": 21,
   "metadata": {},
   "outputs": [
    {
     "data": {
      "image/png": "[encoded data removed]",
      "text/plain": [
       "<Figure size 864x576 with 1 Axes>"
      ]
     },
     "metadata": {},
     "output_type": "display_data"
    },
    {
     "data": {
      "text/plain": [
       "Text(0.5, 0, 'RR_Interval Index')"
      ]
     },
     "execution_count": 21,
     "metadata": {},
     "output_type": "execute_result"
    },
    {
     "data": {
      "image/png": "[encoded data removed]",
      "text/plain": [
       "<Figure size 432x288 with 1 Axes>"
      ]
     },
     "metadata": {},
     "output_type": "display_data"
    }
   ],
   "source": [
    "hrvana.plot_timeseries(hrv_df[\"RR_Intervals\"].values.tolist()[10:100]) # visualise 90 RR intervals\n",
    "plt.title(\"RR_Interval Over Time\")\n",
    "plt.ylabel(\"ms\")\n",
    "plt.xlabel(\"RR_Interval Index\")"
   ]
  },
  {
   "cell_type": "markdown",
   "metadata": {},
   "source": [
    "## RR Interval Data Cleaning"
   ]
  },
  {
   "cell_type": "markdown",
   "metadata": {},
   "source": [
    "### To clean HRV data:\n",
    "- Remove outliers: Accept a valid RR interval between 300 ms to 2000 ms\n",
    "- Interpolate **removed NaN** values with forward linear interpolation (values calculated using future RR intervals). We ignore the index and treat the values as equally spaced.\n",
    "    - Ref: [Pandas Interpolation](https://pandas.pydata.org/pandas-docs/stable/reference/api/pandas.DataFrame.interpolate.html) [HRV-Analysis Interpolation](https://github.com/Aura-healthcare/hrv-analysis/blob/master/hrvanalysis/preprocessing.py)\n",
    "    \n",
    "- Use method proposed by [Malik M et al.](https://onlinelibrary.wiley.com/doi/10.1111/j.1542-474X.1996.tb00275.x) **Heart Rate Variability** to remove ectopic bias\n",
    "- Interpolate removed NaN with forward linear interpolation"
   ]
  },
  {
   "cell_type": "code",
   "execution_count": 22,
   "metadata": {},
   "outputs": [
    {
     "name": "stdout",
     "output_type": "stream",
     "text": [
      "0 outlier(s) have been deleted.\n",
      "6 ectopic beat(s) have been deleted with malik rule.\n"
     ]
    }
   ],
   "source": [
    "clean_rri = hrv_df['RR_Intervals'].values\n",
    "clean_rri = hrvana.remove_outliers(rr_intervals=clean_rri, low_rri=300, high_rri=2000)\n",
    "clean_rri = hrvana.interpolate_nan_values(rr_intervals=clean_rri, interpolation_method=\"linear\")\n",
    "clean_rri = hrvana.remove_ectopic_beats(rr_intervals=clean_rri, method=\"malik\")\n",
    "clean_rri = hrvana.interpolate_nan_values(rr_intervals=clean_rri, interpolation_method=\"linear\")"
   ]
  },
  {
   "cell_type": "markdown",
   "metadata": {},
   "source": [
    "#### The NN intervals are the processed RR intervals. Let's visualize the NN intervals"
   ]
  },
  {
   "cell_type": "code",
   "execution_count": 23,
   "metadata": {},
   "outputs": [
    {
     "data": {
      "image/png": "[encoded data removed]",
      "text/plain": [
       "<Figure size 864x576 with 1 Axes>"
      ]
     },
     "metadata": {},
     "output_type": "display_data"
    },
    {
     "data": {
      "text/plain": [
       "Text(0.5, 0, 'NN Interval Index')"
      ]
     },
     "execution_count": 23,
     "metadata": {},
     "output_type": "execute_result"
    },
    {
     "data": {
      "image/png": "[encoded data removed]",
      "text/plain": [
       "<Figure size 432x288 with 1 Axes>"
      ]
     },
     "metadata": {},
     "output_type": "display_data"
    }
   ],
   "source": [
    "hrvana.plot_timeseries(clean_rri[10:100]) # due to the size of the dataset, here we only show the 90 nnis\n",
    "plt.title(\"NN intervals\")\n",
    "plt.title(\"NN Interval Over Time\")\n",
    "plt.ylabel(\"ms\")\n",
    "plt.xlabel(\"NN Interval Index\")"
   ]
  },
  {
   "cell_type": "code",
   "execution_count": 26,
   "metadata": {},
   "outputs": [
    {
     "data": {
      "text/html": [
       "<div>\n",
       "<style scoped>\n",
       "    .dataframe tbody tr th:only-of-type {\n",
       "        vertical-align: middle;\n",
       "    }\n",
       "\n",
       "    .dataframe tbody tr th {\n",
       "        vertical-align: top;\n",
       "    }\n",
       "\n",
       "    .dataframe thead th {\n",
       "        text-align: right;\n",
       "    }\n",
       "</style>\n",
       "<table border=\"1\" class=\"dataframe\">\n",
       "  <thead>\n",
       "    <tr style=\"text-align: right;\">\n",
       "      <th></th>\n",
       "      <th>0</th>\n",
       "    </tr>\n",
       "  </thead>\n",
       "  <tbody>\n",
       "    <tr>\n",
       "      <th>0</th>\n",
       "      <td>346.0</td>\n",
       "    </tr>\n",
       "    <tr>\n",
       "      <th>1</th>\n",
       "      <td>493.0</td>\n",
       "    </tr>\n",
       "    <tr>\n",
       "      <th>2</th>\n",
       "      <td>640.0</td>\n",
       "    </tr>\n",
       "    <tr>\n",
       "      <th>3</th>\n",
       "      <td>629.0</td>\n",
       "    </tr>\n",
       "    <tr>\n",
       "      <th>4</th>\n",
       "      <td>622.0</td>\n",
       "    </tr>\n",
       "  </tbody>\n",
       "</table>\n",
       "</div>"
      ],
      "text/plain": [
       "       0\n",
       "0  346.0\n",
       "1  493.0\n",
       "2  640.0\n",
       "3  629.0\n",
       "4  622.0"
      ]
     },
     "execution_count": 26,
     "metadata": {},
     "output_type": "execute_result"
    }
   ],
   "source": [
    "pd.DataFrame(clean_rri).head()"
   ]
  },
  {
   "cell_type": "code",
   "execution_count": 27,
   "metadata": {},
   "outputs": [
    {
     "data": {
      "text/plain": [
       "False"
      ]
     },
     "execution_count": 27,
     "metadata": {},
     "output_type": "execute_result"
    }
   ],
   "source": [
    "hrv_df['RR_Intervals'] = clean_rri\n",
    "hrv_df['RR_Intervals'].isna().any()"
   ]
  },
  {
   "cell_type": "code",
   "execution_count": 28,
   "metadata": {},
   "outputs": [
    {
     "data": {
      "text/html": [
       "<div>\n",
       "<style scoped>\n",
       "    .dataframe tbody tr th:only-of-type {\n",
       "        vertical-align: middle;\n",
       "    }\n",
       "\n",
       "    .dataframe tbody tr th {\n",
       "        vertical-align: top;\n",
       "    }\n",
       "\n",
       "    .dataframe thead th {\n",
       "        text-align: right;\n",
       "    }\n",
       "</style>\n",
       "<table border=\"1\" class=\"dataframe\">\n",
       "  <thead>\n",
       "    <tr style=\"text-align: right;\">\n",
       "      <th></th>\n",
       "      <th>ECG_R_Peaks</th>\n",
       "      <th>RR_Intervals</th>\n",
       "    </tr>\n",
       "  </thead>\n",
       "  <tbody>\n",
       "    <tr>\n",
       "      <th>0</th>\n",
       "      <td>346</td>\n",
       "      <td>346.0</td>\n",
       "    </tr>\n",
       "    <tr>\n",
       "      <th>1</th>\n",
       "      <td>1069</td>\n",
       "      <td>493.0</td>\n",
       "    </tr>\n",
       "    <tr>\n",
       "      <th>2</th>\n",
       "      <td>1709</td>\n",
       "      <td>640.0</td>\n",
       "    </tr>\n",
       "    <tr>\n",
       "      <th>3</th>\n",
       "      <td>2338</td>\n",
       "      <td>629.0</td>\n",
       "    </tr>\n",
       "    <tr>\n",
       "      <th>4</th>\n",
       "      <td>2960</td>\n",
       "      <td>622.0</td>\n",
       "    </tr>\n",
       "  </tbody>\n",
       "</table>\n",
       "</div>"
      ],
      "text/plain": [
       "   ECG_R_Peaks  RR_Intervals\n",
       "0          346         346.0\n",
       "1         1069         493.0\n",
       "2         1709         640.0\n",
       "3         2338         629.0\n",
       "4         2960         622.0"
      ]
     },
     "execution_count": 28,
     "metadata": {},
     "output_type": "execute_result"
    }
   ],
   "source": [
    "hrv_df.head()"
   ]
  },
  {
   "cell_type": "markdown",
   "metadata": {},
   "source": [
    "## HRV Feature Extraction"
   ]
  },
  {
   "cell_type": "code",
   "execution_count": null,
   "metadata": {},
   "outputs": [],
   "source": []
  }
 ],
 "metadata": {
  "kernelspec": {
   "display_name": "VA",
   "language": "python",
   "name": "va"
  },
  "language_info": {
   "codemirror_mode": {
    "name": "ipython",
    "version": 3
   },
   "file_extension": ".py",
   "mimetype": "text/x-python",
   "name": "python",
   "nbconvert_exporter": "python",
   "pygments_lexer": "ipython3",
   "version": "3.6.9"
  }
 },
 "nbformat": 4,
 "nbformat_minor": 4
}
