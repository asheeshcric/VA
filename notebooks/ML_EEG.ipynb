{
 "cells": [
  {
   "cell_type": "code",
   "execution_count": 1,
   "metadata": {},
   "outputs": [],
   "source": [
    "data_dir = \"/home/ashish/Documents/github/VA/data/cognitive_data/eeg_features_ws_50\""
   ]
  },
  {
   "cell_type": "code",
   "execution_count": 2,
   "metadata": {},
   "outputs": [],
   "source": [
    "import random\n",
    "import os"
   ]
  },
  {
   "cell_type": "code",
   "execution_count": 30,
   "metadata": {},
   "outputs": [],
   "source": [
    "import numpy as np\n",
    "import pandas as pd\n",
    "from sklearn import svm"
   ]
  },
  {
   "cell_type": "code",
   "execution_count": 4,
   "metadata": {},
   "outputs": [],
   "source": [
    "users = list(range(1, 10))"
   ]
  },
  {
   "cell_type": "code",
   "execution_count": 33,
   "metadata": {},
   "outputs": [],
   "source": [
    "def train_test_split(data_dir, test_pct=0.3):\n",
    "    users = list(range(1, 10))\n",
    "    test = random.sample(users, int(len(users)*test_pct))\n",
    "    train = list(set(users) - set(test))\n",
    "    X_train, y_train, X_test, y_test = pd.DataFrame(), pd.DataFrame(), pd.DataFrame(), pd.DataFrame()\n",
    "    \n",
    "    for user_id in train:\n",
    "        X = pd.read_csv(os.path.join(data_dir, f'user_{user_id}.csv'))\n",
    "        y_train = y_train.append(pd.DataFrame(X['fatigue_label']))\n",
    "        X_train = X_train.append(X.drop(columns='fatigue_label'))\n",
    "        X_train = X_train.fillna(0)\n",
    "        \n",
    "    for user_id in test:\n",
    "        X = pd.read_csv(os.path.join(data_dir, f'user_{user_id}.csv'))\n",
    "        y_test = y_test.append(pd.DataFrame(X['fatigue_label']))\n",
    "        X_test = X_test.append(X.drop(columns='fatigue_label'))\n",
    "        X_test = X_test.fillna(0)\n",
    "        \n",
    "    return X_train, y_train, X_test, y_test"
   ]
  },
  {
   "cell_type": "code",
   "execution_count": 34,
   "metadata": {},
   "outputs": [],
   "source": [
    "X_train, y_train, X_test, y_test = train_test_split(data_dir, test_pct=0.3)"
   ]
  },
  {
   "cell_type": "code",
   "execution_count": 35,
   "metadata": {},
   "outputs": [
    {
     "data": {
      "text/html": [
       "<div>\n",
       "<style scoped>\n",
       "    .dataframe tbody tr th:only-of-type {\n",
       "        vertical-align: middle;\n",
       "    }\n",
       "\n",
       "    .dataframe tbody tr th {\n",
       "        vertical-align: top;\n",
       "    }\n",
       "\n",
       "    .dataframe thead th {\n",
       "        text-align: right;\n",
       "    }\n",
       "</style>\n",
       "<table border=\"1\" class=\"dataframe\">\n",
       "  <thead>\n",
       "    <tr style=\"text-align: right;\">\n",
       "      <th></th>\n",
       "      <th>alpha_1_mean_ws_50</th>\n",
       "      <th>alpha_2_mean_ws_50</th>\n",
       "      <th>alpha_3_mean_ws_50</th>\n",
       "      <th>alpha_4_mean_ws_50</th>\n",
       "      <th>beta_1_mean_ws_50</th>\n",
       "      <th>beta_2_mean_ws_50</th>\n",
       "      <th>beta_3_mean_ws_50</th>\n",
       "      <th>beta_4_mean_ws_50</th>\n",
       "      <th>delta_1_mean_ws_50</th>\n",
       "      <th>delta_2_mean_ws_50</th>\n",
       "      <th>...</th>\n",
       "      <th>delta_3_median_ws_50</th>\n",
       "      <th>delta_4_median_ws_50</th>\n",
       "      <th>gamma_1_median_ws_50</th>\n",
       "      <th>gamma_2_median_ws_50</th>\n",
       "      <th>gamma_3_median_ws_50</th>\n",
       "      <th>gamma_4_median_ws_50</th>\n",
       "      <th>theta_1_median_ws_50</th>\n",
       "      <th>theta_2_median_ws_50</th>\n",
       "      <th>theta_3_median_ws_50</th>\n",
       "      <th>theta_4_median_ws_50</th>\n",
       "    </tr>\n",
       "  </thead>\n",
       "  <tbody>\n",
       "    <tr>\n",
       "      <th>0</th>\n",
       "      <td>0.436433</td>\n",
       "      <td>0.049540</td>\n",
       "      <td>0.097837</td>\n",
       "      <td>0.267870</td>\n",
       "      <td>0.095761</td>\n",
       "      <td>0.036744</td>\n",
       "      <td>0.163251</td>\n",
       "      <td>0.157952</td>\n",
       "      <td>0.320768</td>\n",
       "      <td>0.618394</td>\n",
       "      <td>...</td>\n",
       "      <td>0.171165</td>\n",
       "      <td>0.302790</td>\n",
       "      <td>0.065271</td>\n",
       "      <td>0.026829</td>\n",
       "      <td>0.490069</td>\n",
       "      <td>0.148011</td>\n",
       "      <td>0.081767</td>\n",
       "      <td>0.268493</td>\n",
       "      <td>0.077679</td>\n",
       "      <td>0.123378</td>\n",
       "    </tr>\n",
       "    <tr>\n",
       "      <th>1</th>\n",
       "      <td>0.396805</td>\n",
       "      <td>0.038778</td>\n",
       "      <td>0.097837</td>\n",
       "      <td>0.269235</td>\n",
       "      <td>0.103525</td>\n",
       "      <td>0.031972</td>\n",
       "      <td>0.163251</td>\n",
       "      <td>0.156839</td>\n",
       "      <td>0.343605</td>\n",
       "      <td>0.635758</td>\n",
       "      <td>...</td>\n",
       "      <td>0.171165</td>\n",
       "      <td>0.303021</td>\n",
       "      <td>0.069723</td>\n",
       "      <td>0.023066</td>\n",
       "      <td>0.490069</td>\n",
       "      <td>0.146807</td>\n",
       "      <td>0.086342</td>\n",
       "      <td>0.270426</td>\n",
       "      <td>0.077679</td>\n",
       "      <td>0.124098</td>\n",
       "    </tr>\n",
       "    <tr>\n",
       "      <th>2</th>\n",
       "      <td>0.383157</td>\n",
       "      <td>0.033222</td>\n",
       "      <td>0.097837</td>\n",
       "      <td>0.270666</td>\n",
       "      <td>0.107387</td>\n",
       "      <td>0.028836</td>\n",
       "      <td>0.163251</td>\n",
       "      <td>0.155978</td>\n",
       "      <td>0.351356</td>\n",
       "      <td>0.645720</td>\n",
       "      <td>...</td>\n",
       "      <td>0.171165</td>\n",
       "      <td>0.303253</td>\n",
       "      <td>0.073756</td>\n",
       "      <td>0.019304</td>\n",
       "      <td>0.490069</td>\n",
       "      <td>0.145603</td>\n",
       "      <td>0.088417</td>\n",
       "      <td>0.272360</td>\n",
       "      <td>0.077679</td>\n",
       "      <td>0.124819</td>\n",
       "    </tr>\n",
       "    <tr>\n",
       "      <th>3</th>\n",
       "      <td>0.377446</td>\n",
       "      <td>0.030280</td>\n",
       "      <td>0.097837</td>\n",
       "      <td>0.271739</td>\n",
       "      <td>0.109917</td>\n",
       "      <td>0.026801</td>\n",
       "      <td>0.163251</td>\n",
       "      <td>0.155743</td>\n",
       "      <td>0.354592</td>\n",
       "      <td>0.651163</td>\n",
       "      <td>...</td>\n",
       "      <td>0.171165</td>\n",
       "      <td>0.304165</td>\n",
       "      <td>0.073073</td>\n",
       "      <td>0.017533</td>\n",
       "      <td>0.490069</td>\n",
       "      <td>0.143010</td>\n",
       "      <td>0.086953</td>\n",
       "      <td>0.273139</td>\n",
       "      <td>0.077679</td>\n",
       "      <td>0.125770</td>\n",
       "    </tr>\n",
       "    <tr>\n",
       "      <th>4</th>\n",
       "      <td>0.373045</td>\n",
       "      <td>0.028498</td>\n",
       "      <td>0.097837</td>\n",
       "      <td>0.271947</td>\n",
       "      <td>0.111646</td>\n",
       "      <td>0.025490</td>\n",
       "      <td>0.163251</td>\n",
       "      <td>0.156091</td>\n",
       "      <td>0.357704</td>\n",
       "      <td>0.654100</td>\n",
       "      <td>...</td>\n",
       "      <td>0.171165</td>\n",
       "      <td>0.305077</td>\n",
       "      <td>0.072390</td>\n",
       "      <td>0.015762</td>\n",
       "      <td>0.490069</td>\n",
       "      <td>0.140418</td>\n",
       "      <td>0.085489</td>\n",
       "      <td>0.273919</td>\n",
       "      <td>0.077679</td>\n",
       "      <td>0.126721</td>\n",
       "    </tr>\n",
       "  </tbody>\n",
       "</table>\n",
       "<p>5 rows × 100 columns</p>\n",
       "</div>"
      ],
      "text/plain": [
       "   alpha_1_mean_ws_50  alpha_2_mean_ws_50  alpha_3_mean_ws_50  \\\n",
       "0            0.436433            0.049540            0.097837   \n",
       "1            0.396805            0.038778            0.097837   \n",
       "2            0.383157            0.033222            0.097837   \n",
       "3            0.377446            0.030280            0.097837   \n",
       "4            0.373045            0.028498            0.097837   \n",
       "\n",
       "   alpha_4_mean_ws_50  beta_1_mean_ws_50  beta_2_mean_ws_50  \\\n",
       "0            0.267870           0.095761           0.036744   \n",
       "1            0.269235           0.103525           0.031972   \n",
       "2            0.270666           0.107387           0.028836   \n",
       "3            0.271739           0.109917           0.026801   \n",
       "4            0.271947           0.111646           0.025490   \n",
       "\n",
       "   beta_3_mean_ws_50  beta_4_mean_ws_50  delta_1_mean_ws_50  \\\n",
       "0           0.163251           0.157952            0.320768   \n",
       "1           0.163251           0.156839            0.343605   \n",
       "2           0.163251           0.155978            0.351356   \n",
       "3           0.163251           0.155743            0.354592   \n",
       "4           0.163251           0.156091            0.357704   \n",
       "\n",
       "   delta_2_mean_ws_50  ...  delta_3_median_ws_50  delta_4_median_ws_50  \\\n",
       "0            0.618394  ...              0.171165              0.302790   \n",
       "1            0.635758  ...              0.171165              0.303021   \n",
       "2            0.645720  ...              0.171165              0.303253   \n",
       "3            0.651163  ...              0.171165              0.304165   \n",
       "4            0.654100  ...              0.171165              0.305077   \n",
       "\n",
       "   gamma_1_median_ws_50  gamma_2_median_ws_50  gamma_3_median_ws_50  \\\n",
       "0              0.065271              0.026829              0.490069   \n",
       "1              0.069723              0.023066              0.490069   \n",
       "2              0.073756              0.019304              0.490069   \n",
       "3              0.073073              0.017533              0.490069   \n",
       "4              0.072390              0.015762              0.490069   \n",
       "\n",
       "   gamma_4_median_ws_50  theta_1_median_ws_50  theta_2_median_ws_50  \\\n",
       "0              0.148011              0.081767              0.268493   \n",
       "1              0.146807              0.086342              0.270426   \n",
       "2              0.145603              0.088417              0.272360   \n",
       "3              0.143010              0.086953              0.273139   \n",
       "4              0.140418              0.085489              0.273919   \n",
       "\n",
       "   theta_3_median_ws_50  theta_4_median_ws_50  \n",
       "0              0.077679              0.123378  \n",
       "1              0.077679              0.124098  \n",
       "2              0.077679              0.124819  \n",
       "3              0.077679              0.125770  \n",
       "4              0.077679              0.126721  \n",
       "\n",
       "[5 rows x 100 columns]"
      ]
     },
     "execution_count": 35,
     "metadata": {},
     "output_type": "execute_result"
    }
   ],
   "source": [
    "X_train.head()"
   ]
  },
  {
   "cell_type": "code",
   "execution_count": 36,
   "metadata": {},
   "outputs": [
    {
     "data": {
      "text/html": [
       "<div>\n",
       "<style scoped>\n",
       "    .dataframe tbody tr th:only-of-type {\n",
       "        vertical-align: middle;\n",
       "    }\n",
       "\n",
       "    .dataframe tbody tr th {\n",
       "        vertical-align: top;\n",
       "    }\n",
       "\n",
       "    .dataframe thead th {\n",
       "        text-align: right;\n",
       "    }\n",
       "</style>\n",
       "<table border=\"1\" class=\"dataframe\">\n",
       "  <thead>\n",
       "    <tr style=\"text-align: right;\">\n",
       "      <th></th>\n",
       "      <th>fatigue_label</th>\n",
       "    </tr>\n",
       "  </thead>\n",
       "  <tbody>\n",
       "    <tr>\n",
       "      <th>0</th>\n",
       "      <td>0</td>\n",
       "    </tr>\n",
       "    <tr>\n",
       "      <th>1</th>\n",
       "      <td>0</td>\n",
       "    </tr>\n",
       "    <tr>\n",
       "      <th>2</th>\n",
       "      <td>0</td>\n",
       "    </tr>\n",
       "    <tr>\n",
       "      <th>3</th>\n",
       "      <td>0</td>\n",
       "    </tr>\n",
       "    <tr>\n",
       "      <th>4</th>\n",
       "      <td>0</td>\n",
       "    </tr>\n",
       "  </tbody>\n",
       "</table>\n",
       "</div>"
      ],
      "text/plain": [
       "   fatigue_label\n",
       "0              0\n",
       "1              0\n",
       "2              0\n",
       "3              0\n",
       "4              0"
      ]
     },
     "execution_count": 36,
     "metadata": {},
     "output_type": "execute_result"
    }
   ],
   "source": [
    "y_train.head()"
   ]
  },
  {
   "cell_type": "markdown",
   "metadata": {},
   "source": [
    "## ML Model"
   ]
  },
  {
   "cell_type": "code",
   "execution_count": 37,
   "metadata": {},
   "outputs": [
    {
     "data": {
      "text/plain": [
       "False"
      ]
     },
     "execution_count": 37,
     "metadata": {},
     "output_type": "execute_result"
    }
   ],
   "source": [
    "X_train_np = X_train.to_numpy()\n",
    "X_train_np = X_train_np.astype(float)\n",
    "np.any(np.isnan(X_train_np))"
   ]
  },
  {
   "cell_type": "code",
   "execution_count": 38,
   "metadata": {},
   "outputs": [],
   "source": [
    "y_train_np = y_train.to_numpy()\n",
    "y_train_np = y_train_np.astype(int)"
   ]
  },
  {
   "cell_type": "code",
   "execution_count": null,
   "metadata": {},
   "outputs": [
    {
     "name": "stderr",
     "output_type": "stream",
     "text": [
      "/tankpool/home/ashish/.virtualenvs/VA/lib/python3.6/site-packages/sklearn/utils/validation.py:63: DataConversionWarning: A column-vector y was passed when a 1d array was expected. Please change the shape of y to (n_samples, ), for example using ravel().\n",
      "  return f(*args, **kwargs)\n"
     ]
    }
   ],
   "source": [
    "clf = svm.SVC()\n",
    "clf.fit(X_train_np, y_train_np)"
   ]
  },
  {
   "cell_type": "code",
   "execution_count": null,
   "metadata": {},
   "outputs": [],
   "source": []
  }
 ],
 "metadata": {
  "kernelspec": {
   "display_name": "VA",
   "language": "python",
   "name": "va"
  },
  "language_info": {
   "codemirror_mode": {
    "name": "ipython",
    "version": 3
   },
   "file_extension": ".py",
   "mimetype": "text/x-python",
   "name": "python",
   "nbconvert_exporter": "python",
   "pygments_lexer": "ipython3",
   "version": "3.6.9"
  }
 },
 "nbformat": 4,
 "nbformat_minor": 4
}
